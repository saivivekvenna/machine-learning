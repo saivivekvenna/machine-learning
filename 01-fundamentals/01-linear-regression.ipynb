{
 "cells": [
  {
   "cell_type": "markdown",
   "metadata": {},
   "source": [
    "**Linear Regression**\n",
    "\n",
    "Linear Regression is one of the most common statistical and machine learning algorithm. It is used to find a linear relationship between one or more predictors. Their are two types of linear regression, simple regression and multiple regression (MLR). The algorithm allows a computer to predict future data. \n",
    "\n",
    "Simple Linear Regression: A model with a **single independent variable** (predictor) and a **single dependent variable** (outcome). Simple regression"
   ]
  }
 ],
 "metadata": {
  "language_info": {
   "name": "python"
  }
 },
 "nbformat": 4,
 "nbformat_minor": 2
}
