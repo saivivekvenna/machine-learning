{
 "cells": [
  {
   "cell_type": "markdown",
   "metadata": {},
   "source": [
    "### Linear Regression\n",
    "\n",
    "Linear Regression is one of the most common statistical and machine learning algorithm. It is used to find a linear relationship between one or more predictors. Their are two types of linear regression, simple regression and multiple regression (MLR). The algorithm allows a computer to predict future data. \n",
    "\n",
    "#### Simple Linear Regression:\n",
    "A model with a **single independent variable** (predictor) and a **single dependent variable** (outcome). Simple regression is made up of four basic assumtions. \n",
    "\n",
    "1. There is a linear relationship between predictor and outcome. \n",
    "2. The variation around the regression line is constant. The average variation from all the points is the same. \n",
    "3. The vartiation of data points around the regression line follows a normal distribution. This means that majority of the data points will be closer to regression line and less points will be father away. If you plot the variation from the regression line it should form a bell curve. \n",
    "4. The deviation of each point is independent of the other points. The value of devation of one point has no relation to other points deviation. \n",
    "\n"
   ]
  }
 ],
 "metadata": {
  "language_info": {
   "name": "python"
  }
 },
 "nbformat": 4,
 "nbformat_minor": 2
}
